{
 "cells": [
  {
   "cell_type": "markdown",
   "metadata": {},
   "source": [
    "# Siamese Networks and One Shot Learning"
   ]
  },
  {
   "cell_type": "markdown",
   "metadata": {},
   "source": [
    "Bir şeyleri görebilmek, tanıyabilmek görsel sistemimizin en önemli özelliklerinden bir tanesi. Bir elmayı, basketbol topunu veya yeni tanıştığımız bir insanı 1 veya 2 defa gördüğümüzde çok çabuk hatırlayabiliyor veya tanıyabiliyoruz. Örneğin daha önce basketbol topunu görmemiş olsanız ve ben sizlere basketbol topunun bir fotoğrafını göstersem bundan sonra basketbol topunu diğer toplardan çok rahat bir şekilde ayırt edebilirsiniz."
   ]
  },
  {
   "cell_type": "markdown",
   "metadata": {},
   "source": [
    "<img src=\"export (1).png\" height=px width=480px align=left>"
   ]
  },
  {
   "cell_type": "markdown",
   "metadata": {},
   "source": [
    "Üstelik bu güçlü özelliğimiz ile birlikte yalnızca ayırt etmekle kalmıyor, bu bilgimizi genelleştirebiliyoruz. Örneğin top denildiği zaman yuvarlak şekilli bir nesneden bahsedildiğini biliyoruz.\n",
    "\n",
    "Son yıllarda makine öğrenmesi ve derin öğrenme algoritmaları kullanılarak öneri sistemleri, ses tanıma, görüntü tanıma gibi birçok alanda çok başarılı çalışmalar yapıldı ve yapılmaya devam ediyor. Ancak bu alanlarda genel olarak çok fazla eğitim verisi kullanılıyor ve yeni bir kategori geldiğinde genelleştirme yapmak veya oluşturmuş olduğumuz modelleri yeniden eğitmek çoğu zaman mümkün olamayabiliyor(eğitim verisinin yetersiz olması).\n",
    "\n",
    "Tahmin edebileceğiniz gibi, çok az eğitim verisi kullanarak model eğitmeye 'one-shot learning' deniyor.\n",
    "Bu yazımda, [ocr faces](http://www.cl.cam.ac.uk/research/dtg/attarchive/facedatabase.html) adresindeki veri kümesini ve siyam ağlarını kullanarak yüz tanıma sistemi yapacağız."
   ]
  },
  {
   "cell_type": "markdown",
   "metadata": {},
   "source": [
    "### Siyam Ağları(Siamese Networks)\n",
    "\n",
    "\n"
   ]
  },
  {
   "cell_type": "markdown",
   "metadata": {},
   "source": [
    "<img src=\"siyam.jpg\" width=480px height=240px align=left>\n",
    "<p>\n",
    "Siyam ağları, birbirinin aynısı 2 yapay sinir ağından oluşur. Bu iki yapay sinir ağında ağırlıklar ve parametreler tamamen aynı\n",
    "</p>"
   ]
  }
 ],
 "metadata": {
  "kernelspec": {
   "display_name": "Python 3",
   "language": "python",
   "name": "python3"
  },
  "language_info": {
   "codemirror_mode": {
    "name": "ipython",
    "version": 3
   },
   "file_extension": ".py",
   "mimetype": "text/x-python",
   "name": "python",
   "nbconvert_exporter": "python",
   "pygments_lexer": "ipython3",
   "version": "3.5.2"
  }
 },
 "nbformat": 4,
 "nbformat_minor": 2
}
